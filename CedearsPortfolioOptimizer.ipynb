{
  "nbformat": 4,
  "nbformat_minor": 0,
  "metadata": {
    "colab": {
      "name": "CedearsPortfolioOptimizer.ipynb",
      "provenance": [],
      "authorship_tag": "ABX9TyPxLPcfMDk8SJChcO/uw9bd",
      "include_colab_link": true
    },
    "kernelspec": {
      "name": "python3",
      "display_name": "Python 3"
    }
  },
  "cells": [
    {
      "cell_type": "markdown",
      "metadata": {
        "id": "view-in-github",
        "colab_type": "text"
      },
      "source": [
        "<a href=\"https://colab.research.google.com/github/lucasprovenzano/CedearsPortfolioOptimizer/blob/main/CedearsPortfolioOptimizer.ipynb\" target=\"_parent\"><img src=\"https://colab.research.google.com/assets/colab-badge.svg\" alt=\"Open In Colab\"/></a>"
      ]
    },
    {
      "cell_type": "code",
      "metadata": {
        "id": "60yjAbXgzThy"
      },
      "source": [
        "import pandas as pd\n",
        "import pandas_datareader.data as web\n",
        "import numpy as np\n",
        "import datetime as dt"
      ],
      "execution_count": 49,
      "outputs": []
    },
    {
      "cell_type": "code",
      "metadata": {
        "id": "NNlUZleS788t"
      },
      "source": [
        "# Defining a date frame. \n",
        "start = dt.datetime(2017, 1, 1)\n",
        "end = dt.datetime(2021, 1, 1)"
      ],
      "execution_count": 52,
      "outputs": []
    },
    {
      "cell_type": "code",
      "metadata": {
        "id": "ZNWB2v8P78WI"
      },
      "source": [
        "# Getting the index for an existing dataframe. \n",
        "df = web.DataReader('AAPL','yahoo',start, end)\n",
        "df2 = pd.DataFrame(index=df.index)"
      ],
      "execution_count": 53,
      "outputs": []
    },
    {
      "cell_type": "code",
      "metadata": {
        "id": "kD6mji7i8f1y"
      },
      "source": [
        "# List of CEDEARS stocks with high trading volume.\n",
        "ticker_list = ['AAPL',  # Apple\n",
        "               'KO',    # Coca-Cola\n",
        "               'HON',   # Honeywell International\n",
        "               'QCOM',  # Qualcomm\n",
        "               'BBD',   # Banco Bradeco\n",
        "               'PFE',   # Pfizer\n",
        "               'CSCO',  # Cisco\n",
        "               'X',     # United States Steel Corp.\n",
        "               'GOLD',  # Barrik Gold\n",
        "               'PBR',   # Petrobras\n",
        "               'MELI',  # Mercado Libre\n",
        "               'MSFT',  # Microsoft\n",
        "               'GS',    # The Goldman Sachs\n",
        "               'BABA',  # Alibaba\n",
        "               'AMZN',  # Amazon\n",
        "               'BB',    # Blackberry\n",
        "               'NOKA',  # Nokia\n",
        "               'HMY',   # Harmony gold company\n",
        "               'VIST',  # Vista Oil company\n",
        "               'VALE',  # Vale\n",
        "               'XOM',   # XOM\n",
        "               'WFC',   # Well Fargo\n",
        "               'NVDA',  # Nvidia\n",
        "               'AUY',   # Yamana Gold\n",
        "               'INTC',\n",
        "               'ITUB',\n",
        "               'TSLA',\n",
        "               'ERJ',\n",
        "               'CRM',\n",
        "               'DISN',\n",
        "               'C',\n",
        "               'UL',\n",
        "               'GOOGL',\n",
        "               'TXR',\n",
        "               'V',\n",
        "               'GE',\n",
        "               'PYPL',\n",
        "               'OGZD',\n",
        "               'JPM',\n",
        "               'CVX',\n",
        "               'WMT',\n",
        "               'BA',\n",
        "               'ABEV',\n",
        "               'FDX',\n",
        "               'KOD',\n",
        "               'GLOB',\n",
        "               'BRFS',\n",
        "               'ADGO',\n",
        "               'FB',\n",
        "               'T',\n",
        "               'JNJ',\n",
        "               'ERIC',\n",
        "               'TEN',\n",
        "               'LYG',\n",
        "               'MRK',\n",
        "               'DESP',\n",
        "               'SLB',\n",
        "               'EBAY',\n",
        "               'TWTR',\n",
        "               'MCD',\n",
        "               'BMY',\n",
        "               'ORCL',\n",
        "               'ARCO',\n",
        "               'NFLX'\n",
        "               ]"
      ],
      "execution_count": null,
      "outputs": []
    }
  ]
}