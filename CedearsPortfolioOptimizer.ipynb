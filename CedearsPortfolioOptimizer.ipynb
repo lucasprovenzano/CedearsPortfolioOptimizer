{
  "nbformat": 4,
  "nbformat_minor": 0,
  "metadata": {
    "colab": {
      "name": "CedearsPortfolioOptimizer.ipynb",
      "provenance": [],
      "authorship_tag": "ABX9TyMXSynGNab65cO5yu4UL5pi",
      "include_colab_link": true
    },
    "kernelspec": {
      "name": "python3",
      "display_name": "Python 3"
    }
  },
  "cells": [
    {
      "cell_type": "markdown",
      "metadata": {
        "id": "view-in-github",
        "colab_type": "text"
      },
      "source": [
        "<a href=\"https://colab.research.google.com/github/lucasprovenzano/CedearsPortfolioOptimizer/blob/main/CedearsPortfolioOptimizer.ipynb\" target=\"_parent\"><img src=\"https://colab.research.google.com/assets/colab-badge.svg\" alt=\"Open In Colab\"/></a>"
      ]
    },
    {
      "cell_type": "code",
      "metadata": {
        "id": "60yjAbXgzThy"
      },
      "source": [
        "import pandas as pd\n",
        "import pandas_datareader.data as web\n",
        "import numpy as np\n",
        "import datetime as dt"
      ],
      "execution_count": 49,
      "outputs": []
    },
    {
      "cell_type": "code",
      "metadata": {
        "id": "NNlUZleS788t"
      },
      "source": [
        "# Defining a date frame. \n",
        "start = dt.datetime(2017, 1, 1)\n",
        "end = dt.datetime(2021, 1, 1)"
      ],
      "execution_count": 52,
      "outputs": []
    },
    {
      "cell_type": "code",
      "metadata": {
        "id": "ZNWB2v8P78WI"
      },
      "source": [
        "# Getting the index for an existing dataframe. \n",
        "df = web.DataReader('AAPL','yahoo',start, end)\n",
        "df2 = pd.DataFrame(index=df.index)"
      ],
      "execution_count": 53,
      "outputs": []
    },
    {
      "cell_type": "code",
      "metadata": {
        "id": "kD6mji7i8f1y"
      },
      "source": [
        ""
      ],
      "execution_count": null,
      "outputs": []
    }
  ]
}