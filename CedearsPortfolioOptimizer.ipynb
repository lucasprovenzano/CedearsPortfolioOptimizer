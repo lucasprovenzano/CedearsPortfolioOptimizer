{
  "nbformat": 4,
  "nbformat_minor": 0,
  "metadata": {
    "colab": {
      "name": "CedearsPortfolioOptimizer.ipynb",
      "provenance": [],
      "authorship_tag": "ABX9TyNQNUrkCUomvavSbd+oIxJo",
      "include_colab_link": true
    },
    "kernelspec": {
      "name": "python3",
      "display_name": "Python 3"
    }
  },
  "cells": [
    {
      "cell_type": "markdown",
      "metadata": {
        "id": "view-in-github",
        "colab_type": "text"
      },
      "source": [
        "<a href=\"https://colab.research.google.com/github/lucasprovenzano/CedearsPortfolioOptimizer/blob/main/CedearsPortfolioOptimizer.ipynb\" target=\"_parent\"><img src=\"https://colab.research.google.com/assets/colab-badge.svg\" alt=\"Open In Colab\"/></a>"
      ]
    },
    {
      "cell_type": "code",
      "metadata": {
        "id": "60yjAbXgzThy"
      },
      "source": [
        "import pandas as pd\n",
        "import pandas_datareader.data as web\n",
        "import numpy as np\n",
        "import datetime as dt\n",
        "import requests"
      ],
      "execution_count": 37,
      "outputs": []
    },
    {
      "cell_type": "code",
      "metadata": {
        "id": "NNlUZleS788t"
      },
      "source": [
        "# Defining a date frame. \n",
        "\n",
        "start = dt.datetime(2017, 1, 1)\n",
        "end = dt.datetime(2021, 1, 1)"
      ],
      "execution_count": 3,
      "outputs": []
    },
    {
      "cell_type": "code",
      "metadata": {
        "id": "ZNWB2v8P78WI"
      },
      "source": [
        "# Getting the index for an existing dataframe. \n",
        "\n",
        "df = web.DataReader('AAPL','yahoo',start, end)\n",
        "df = pd.DataFrame(index=df.index)"
      ],
      "execution_count": 9,
      "outputs": []
    },
    {
      "cell_type": "code",
      "metadata": {
        "id": "kD6mji7i8f1y"
      },
      "source": [
        "# List of CEDEARS stocks with high trading volume.\n",
        "\n",
        "ticker_list = [ #'AAPL',  # Apple\n",
        "               'KO',    # Coca-Cola\n",
        "               'HON',   # Honeywell International\n",
        "               'QCOM',  # Qualcomm\n",
        "               'BBD',   # Banco Bradeco\n",
        "               'PFE',   # Pfizer\n",
        "               'CSCO',  # Cisco\n",
        "               'X',     # United States Steel Corp.\n",
        "               'GOLD',  # Barrik Gold\n",
        "               'PBR',   # Petrobras\n",
        "               'MELI',  # Mercado Libre\n",
        "               'MSFT',  # Microsoft\n",
        "               'GS',    # The Goldman Sachs\n",
        "               'BABA',  # Alibaba\n",
        "               'AMZN',  # Amazon\n",
        "               'BB',    # Blackberry\n",
        "               'NOKA',  # Nokia\n",
        "               'HMY',   # Harmony gold company\n",
        "               'VIST',  # Vista Oil company\n",
        "               'VALE',  # Vale\n",
        "               'XOM',   # XOM\n",
        "               'WFC',   # Well Fargo\n",
        "               'NVDA',  # Nvidia\n",
        "               'AUY',   # Yamana Gold\n",
        "               'INTC',  # Intel\n",
        "               'ITUB',  # Itaú Unibanco Holdin S.A.\n",
        "               'TSLA',  # Tesla\n",
        "               'ERJ',   # Embraer\n",
        "               'CRM',   # salesforce.com\n",
        "               'DIS',   # Disney\n",
        "               'C',     # City group \n",
        "               'UL',    # Unilever \n",
        "               'GOOGL', # Alphabet Inc.\n",
        "               'TX',    # Ternium\n",
        "               'V',     # Visa\n",
        "               'GE',    # General Electric Company\n",
        "               'PYPL',  # Paypal\n",
        "               'OGZPY', # Public Joint Stock Company Gazprom\n",
        "               'JPM',   # JP Morgan Chase & Co.\n",
        "               'CVX',   # Chevron\n",
        "               'WMT',   # Wallmart\n",
        "               'BA',    # Boening\n",
        "               'ABEV',  # Ambev\n",
        "               'FDX',   # Fedex\n",
        "               'KOD',   # Kodak\n",
        "               'GLOB',  # Globant\n",
        "               'BRFS',  # BRF\n",
        "               'AGRO',  # Adecoagro\n",
        "               'FB',    # Facebook\n",
        "               'T',     # AT&T\n",
        "               'JNJ',   # Johnson & Johnson\n",
        "               'ERIC',  # Telefonktiebolaget LM Ericsson\n",
        "               'TEN',   # Tenneco\n",
        "               'LYG',   # Lloyds Banking Group\n",
        "               'MRK',   # Merck & Co.\n",
        "               'DESP',  # Despegar.co,\n",
        "               'SLB',   # Schlumberger Limited\n",
        "               'EBAY',  # Ebay\n",
        "               'TWTR',  # Twitter\n",
        "               'MCD',   # McDonald's\n",
        "               'BMY',   # Bristol-Myers Squibb\n",
        "               'ORCL',  # Oracle\n",
        "               'ARCO',  # Arcos Dorados Holding\n",
        "               'NFLX'  # Netflix\n",
        "               ]"
      ],
      "execution_count": 16,
      "outputs": []
    },
    {
      "cell_type": "code",
      "metadata": {
        "id": "SziyXaEvNjTa"
      },
      "source": [
        "# Getting Adj Close price of each ticker. \n",
        "\n",
        "for ticker in ticker_list:\n",
        "  df[ticker] = web.DataReader(ticker,'yahoo',start, end)['Adj Close']"
      ],
      "execution_count": 20,
      "outputs": []
    },
    {
      "cell_type": "code",
      "metadata": {
        "id": "1T4N0JFAgMHp"
      },
      "source": [
        "# Installing PyPortfoiloOpt https://pyportfolioopt.readthedocs.io/en/latest/\n",
        "pip install PyPortfolioOpt"
      ],
      "execution_count": null,
      "outputs": []
    },
    {
      "cell_type": "code",
      "metadata": {
        "id": "0aN1Rg9xjF4_"
      },
      "source": [
        "# Optimizing the portfolio\n",
        "from pypfopt.efficient_frontier import EfficientFrontier\n",
        "from pypfopt import risk_models, expected_returns"
      ],
      "execution_count": 25,
      "outputs": []
    },
    {
      "cell_type": "code",
      "metadata": {
        "id": "3pb_E_fLkPa8"
      },
      "source": [
        "# Calculating expected annualized returns and the annualized sample \n",
        "# covarainace matrix of the daily assest return. \n",
        "\n",
        "mu = expected_returns.mean_historical_return(df)\n",
        "S = risk_models.sample_cov(df)"
      ],
      "execution_count": null,
      "outputs": []
    },
    {
      "cell_type": "code",
      "metadata": {
        "colab": {
          "base_uri": "https://localhost:8080/"
        },
        "id": "UAex27z1kmKx",
        "outputId": "d2e4d57f-d9a9-47fd-d49d-fe6520e809ba"
      },
      "source": [
        "# Optimize for the maximal Sharpe ratio. \n",
        "ef = EfficientFrontier(mu, S)\n",
        "weights = ef.max_sharpe()\n",
        "\n",
        "cleaned_weights = ef.clean_weights()\n",
        "print(cleaned_weights)\n",
        "ef.portfolio_performance(verbose=True)"
      ],
      "execution_count": 27,
      "outputs": [
        {
          "output_type": "stream",
          "text": [
            "OrderedDict([('AAPL', 0.0), ('KO', 0.0), ('HON', 0.0), ('QCOM', 0.0), ('BBD', 0.0), ('PFE', 0.0), ('CSCO', 0.0), ('X', 0.0), ('GOLD', 0.0), ('PBR', 0.0), ('MELI', 0.19597), ('MSFT', 0.0), ('GS', 0.0), ('BABA', 0.0), ('AMZN', 0.05988), ('BB', 0.0), ('NOKA', 0.0), ('HMY', 0.00224), ('VIST', 0.0), ('VALE', 0.0), ('XOM', 0.0), ('WFC', 0.0), ('NVDA', 0.0), ('AUY', 0.0), ('INTC', 0.0), ('ITUB', 0.0), ('TSLA', 0.18264), ('ERJ', 0.0), ('CRM', 0.0), ('DIS', 0.0), ('C', 0.0), ('UL', 0.0), ('GOOGL', 0.0), ('TX', 0.0), ('V', 0.0), ('GE', 0.0), ('PYPL', 0.02152), ('OGZPY', 0.0), ('JPM', 0.0), ('CVX', 0.0), ('WMT', 0.16022), ('BA', 0.0), ('ABEV', 0.0), ('FDX', 0.0), ('KOD', 0.27489), ('GLOB', 0.10263), ('BRFS', 0.0), ('AGRO', 0.0), ('FB', 0.0), ('T', 0.0), ('JNJ', 0.0), ('ERIC', 0.0), ('TEN', 0.0), ('LYG', 0.0), ('MRK', 0.0), ('DESP', 0.0), ('SLB', 0.0), ('EBAY', 0.0), ('TWTR', 0.0), ('MCD', 0.0), ('BMY', 0.0), ('ORCL', 0.0), ('ARCO', 0.0), ('NFLX', 0.0)])\n",
            "Expected annual return: 111.1%\n",
            "Annual volatility: 39.6%\n",
            "Sharpe Ratio: 2.76\n"
          ],
          "name": "stdout"
        },
        {
          "output_type": "execute_result",
          "data": {
            "text/plain": [
              "(1.1109664414898321, 0.3955548937871055, 2.758065842757615)"
            ]
          },
          "metadata": {
            "tags": []
          },
          "execution_count": 27
        }
      ]
    },
    {
      "cell_type": "code",
      "metadata": {
        "id": "ZNUJre4uleAt"
      },
      "source": [
        "pip install pulp"
      ],
      "execution_count": null,
      "outputs": []
    },
    {
      "cell_type": "code",
      "metadata": {
        "colab": {
          "base_uri": "https://localhost:8080/"
        },
        "id": "chd1uLHDljes",
        "outputId": "0d9704da-2d47-4f04-8024-5e72f03efc6c"
      },
      "source": [
        "# Getting the discreate allocation of each share per stock\n",
        "from pypfopt.discrete_allocation import DiscreteAllocation, get_latest_prices\n",
        "\n",
        "portfolio_val = 10000\n",
        "latest_prices = get_latest_prices(df)\n",
        "weights = cleaned_weights\n",
        "da = DiscreteAllocation(weights, latest_prices, total_portfolio_value=portfolio_val)\n",
        "allocation, leftover = da.lp_portfolio()\n",
        "\n",
        "print('Discrete allocation:', allocation)\n",
        "print('Fund Remaining: $',leftover)"
      ],
      "execution_count": 32,
      "outputs": [
        {
          "output_type": "stream",
          "text": [
            "Discrete allocation: {'MELI': 1, 'HMY': 5, 'TSLA': 3, 'PYPL': 1, 'WMT': 12, 'KOD': 19, 'GLOB': 5}\n",
            "Fund Remaining: $ 341.0300850868225\n"
          ],
          "name": "stdout"
        }
      ]
    },
    {
      "cell_type": "code",
      "metadata": {
        "id": "iotPLxGnm3GP"
      },
      "source": [
        "# Creating a function to get the companies name\n",
        "def get_company_name(symbol):\n",
        "  url = 'http://d.yimg.com/autoc.finance.yahoo.com/autoc?query='+symbol+'&region=1&lang=en'\n",
        "  result = requests.get(url).json()\n",
        "  for r in result['ResultSet']['Result']:\n",
        "    if r['symbol']==symbol:\n",
        "      return r['name']"
      ],
      "execution_count": 39,
      "outputs": []
    },
    {
      "cell_type": "code",
      "metadata": {
        "id": "cu0oRfu9nljy"
      },
      "source": [
        "# Storing company names into a list. \n",
        "company_name = []\n",
        "for symbol in allocation:\n",
        "  company_name.append(get_company_name(symbol))"
      ],
      "execution_count": 40,
      "outputs": []
    },
    {
      "cell_type": "code",
      "metadata": {
        "id": "In5QtAXIoST-"
      },
      "source": [
        "# Gettind discrete allocation values. \n",
        "discrete_allocation_list = []\n",
        "for symbol in allocation:\n",
        "  discrete_allocation_list.append(allocation.get(symbol))"
      ],
      "execution_count": 41,
      "outputs": []
    },
    {
      "cell_type": "code",
      "metadata": {
        "id": "cOHktDxSoj0Q"
      },
      "source": [
        "# Create a data frame for the final portfolio. \n",
        "portfolio_df = pd.DataFrame(columns=['Company_names', \n",
        "                                     'Company_Ticker', \n",
        "                                     'Discrete_val_'+str(portfolio_val)\n",
        "                                     ])"
      ],
      "execution_count": 43,
      "outputs": []
    },
    {
      "cell_type": "code",
      "metadata": {
        "id": "--x6WJGYpAaU"
      },
      "source": [
        ""
      ],
      "execution_count": null,
      "outputs": []
    }
  ]
}