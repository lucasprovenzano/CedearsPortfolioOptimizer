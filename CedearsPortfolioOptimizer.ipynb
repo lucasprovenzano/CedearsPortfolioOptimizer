{
  "nbformat": 4,
  "nbformat_minor": 0,
  "metadata": {
    "colab": {
      "name": "CedearsPortfolioOptimizer.ipynb",
      "provenance": [],
      "authorship_tag": "ABX9TyOq+aVqMxtE1vwWpedbcBjp",
      "include_colab_link": true
    },
    "kernelspec": {
      "name": "python3",
      "display_name": "Python 3"
    }
  },
  "cells": [
    {
      "cell_type": "markdown",
      "metadata": {
        "id": "view-in-github",
        "colab_type": "text"
      },
      "source": [
        "<a href=\"https://colab.research.google.com/github/lucasprovenzano/CedearsPortfolioOptimizer/blob/main/CedearsPortfolioOptimizer.ipynb\" target=\"_parent\"><img src=\"https://colab.research.google.com/assets/colab-badge.svg\" alt=\"Open In Colab\"/></a>"
      ]
    },
    {
      "cell_type": "code",
      "metadata": {
        "id": "60yjAbXgzThy"
      },
      "source": [
        "import pandas as pd\n",
        "import pandas_datareader.data as web\n",
        "import numpy as np\n",
        "import datetime as dt"
      ],
      "execution_count": 2,
      "outputs": []
    },
    {
      "cell_type": "code",
      "metadata": {
        "id": "NNlUZleS788t"
      },
      "source": [
        "# Defining a date frame. \n",
        "\n",
        "start = dt.datetime(2017, 1, 1)\n",
        "end = dt.datetime(2021, 1, 1)"
      ],
      "execution_count": 3,
      "outputs": []
    },
    {
      "cell_type": "code",
      "metadata": {
        "id": "ZNWB2v8P78WI"
      },
      "source": [
        "# Getting the index for an existing dataframe. \n",
        "\n",
        "df = web.DataReader('AAPL','yahoo',start, end)\n",
        "df = pd.DataFrame(index=df.index)"
      ],
      "execution_count": 9,
      "outputs": []
    },
    {
      "cell_type": "code",
      "metadata": {
        "id": "kD6mji7i8f1y"
      },
      "source": [
        "# List of CEDEARS stocks with high trading volume.\n",
        "\n",
        "ticker_list = [ #'AAPL',  # Apple\n",
        "               'KO',    # Coca-Cola\n",
        "               'HON',   # Honeywell International\n",
        "               'QCOM',  # Qualcomm\n",
        "               'BBD',   # Banco Bradeco\n",
        "               'PFE',   # Pfizer\n",
        "               'CSCO',  # Cisco\n",
        "               'X',     # United States Steel Corp.\n",
        "               'GOLD',  # Barrik Gold\n",
        "               'PBR',   # Petrobras\n",
        "               'MELI',  # Mercado Libre\n",
        "               'MSFT',  # Microsoft\n",
        "               'GS',    # The Goldman Sachs\n",
        "               'BABA',  # Alibaba\n",
        "               'AMZN',  # Amazon\n",
        "               'BB',    # Blackberry\n",
        "               'NOKA',  # Nokia\n",
        "               'HMY',   # Harmony gold company\n",
        "               'VIST',  # Vista Oil company\n",
        "               'VALE',  # Vale\n",
        "               'XOM',   # XOM\n",
        "               'WFC',   # Well Fargo\n",
        "               'NVDA',  # Nvidia\n",
        "               'AUY',   # Yamana Gold\n",
        "               'INTC',  # Intel\n",
        "               'ITUB',  # Itaú Unibanco Holdin S.A.\n",
        "               'TSLA',  # Tesla\n",
        "               'ERJ',   # Embraer\n",
        "               'CRM',   # salesforce.com\n",
        "               'DIS',  # Disney\n",
        "               'C',     # City group \n",
        "               'UL',    # Unilever \n",
        "               'GOOGL', # Alphabet Inc.\n",
        "               'TX',    # Ternium\n",
        "               'V',     # Visa\n",
        "               'GE',    # General Electric Company\n",
        "               'PYPL',  # Paypal\n",
        "               'OGZPY', # Public Joint Stock Company Gazprom\n",
        "               'JPM',   # JP Morgan Chase & Co.\n",
        "               'CVX',   # Chevron\n",
        "               'WMT',   # Wallmart\n",
        "               'BA',    # Boening\n",
        "               'ABEV',  # Ambev\n",
        "               'FDX',   # Fedex\n",
        "               'KOD',   # Kodak\n",
        "               'GLOB',  # Globant\n",
        "               'BRFS',  # BRF\n",
        "               'AGRO',  # Adecoagro\n",
        "               'FB',    # Facebook\n",
        "               'T',     # AT&T\n",
        "               'JNJ',   # Johnson & Johnson\n",
        "               'ERIC',  # Telefonktiebolaget LM Ericsson\n",
        "               'TEN',   # Tenneco\n",
        "               'LYG',   # Lloyds Banking Group\n",
        "               'MRK',   # Merck & Co.\n",
        "               'DESP',  # Despegar.co,\n",
        "               'SLB',   # Schlumberger Limited\n",
        "               'EBAY',  # Ebay\n",
        "               'TWTR',  # Twitter\n",
        "               'MCD',   # McDonald's\n",
        "               'BMY',   # Bristol-Myers Squibb\n",
        "               'ORCL',  # Oracle\n",
        "               'ARCO',  # Arcos Dorados Holding\n",
        "               'NFLX'  # Netflix\n",
        "               ]"
      ],
      "execution_count": 16,
      "outputs": []
    },
    {
      "cell_type": "code",
      "metadata": {
        "id": "SziyXaEvNjTa"
      },
      "source": [
        "# Getting Adj Close price of each ticker. \n",
        "\n",
        "for ticker in ticker_list:\n",
        "  df[ticker] = web.DataReader(ticker,'yahoo',start, end)['Adj Close']"
      ],
      "execution_count": 20,
      "outputs": []
    }
  ]
}